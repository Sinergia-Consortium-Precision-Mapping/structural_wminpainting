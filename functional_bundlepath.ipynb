{
 "cells": [
  {
   "cell_type": "code",
   "execution_count": 1,
   "metadata": {},
   "outputs": [],
   "source": [
    "from src import *"
   ]
  },
  {
   "cell_type": "markdown",
   "metadata": {},
   "source": [
    "## Goal\n",
    "\n",
    "The goal of this notebook is to do create paths (voxel level) to match pairs of regions with highest connectivity paths"
   ]
  },
  {
   "cell_type": "markdown",
   "metadata": {},
   "source": [
    "## Description\n",
    "Generate paths according to the functional connectivity of pairs of regions. \n",
    "- E.g using highest sum of energy (energy being positive correlation)"
   ]
  },
  {
   "cell_type": "markdown",
   "metadata": {},
   "source": [
    "Preprocessing"
   ]
  },
  {
   "cell_type": "code",
   "execution_count": null,
   "metadata": {},
   "outputs": [],
   "source": [
    "connFilename = '../atlas_data/fiber_atlas/probconnatlas/wm.connatlas.scale1.h5'\n",
    "hf = h5py.File(connFilename, 'r')\n",
    "\n",
    "centers = np.array(hf.get('header').get('gmcoords'))\n",
    "nsubject = hf.get('header').get('nsubjects')[()]\n",
    "\n",
    "# Load the rest fmri in MNI space volumes\n",
    "rest_runs = os.listdir('../atlas_data/rstfMRI_eg/rst_fmri_moviedata/')\n",
    "rst_vols = [nib.load('../atlas_data/rstfMRI_eg/rst_fmri_moviedata/{}'.format(run)) for run in rest_runs]\n",
    "\n",
    "rest_affine = rst_vols[0].affine\n",
    "ftimecourses = [rst.get_fdata() for rst in rst_vols]\n",
    "ftimecourses = np.asarray(ftimecourses)\n",
    "ftimecourse = ftimecourses.mean(axis=0)\n",
    "\n",
    "rst_vol = nib.Nifti1Image(ftimecourse, affine=rest_affine)"
   ]
  },
  {
   "cell_type": "code",
   "execution_count": null,
   "metadata": {},
   "outputs": [],
   "source": [
    "# 1. Transform the voxels to coordinates\n",
    "# 2. Match the coordinates i.e the voxels to a given label\n",
    "# 3. Obtain an mapping of a voxel to the parcels\n",
    "\n",
    "labels_vol = np.zeros(rst_vol.shape[:3])\n",
    "for x in tqdm(range(rst_vol.shape[0])):\n",
    "    for y in range(rst_vol.shape[1]):\n",
    "        for z in range(rst_vol.shape[2]):\n",
    "            # Find the MNI coordinates of the voxel (x, y, z)\n",
    "            spatial_coord = np.array(image.coord_transform(x, y, z, rst_vol.affine))\n",
    "            labels_vol[x,y,z] = np.argmin(np.sum((centers - spatial_coord) ** 2, axis=1))\n",
    "\n",
    "# Atlas averaging timecourses\n",
    "avg_tc = np.zeros((centers.shape[0], rst_vol.shape[-1]))\n",
    "for t in tqdm(range(rst_vol.shape[-1])):\n",
    "    tmp = rst_vol.get_fdata()[:,:,:,t]\n",
    "    for k in range(centers.shape[0]):\n",
    "        indexes = (labels_vol == k)\n",
    "        nonzero = tmp[indexes][(tmp[indexes] != 0)]\n",
    "        avg_tc[k,t] = nonzero.mean()"
   ]
  },
  {
   "cell_type": "code",
   "execution_count": null,
   "metadata": {},
   "outputs": [],
   "source": [
    "corr_mat = np.zeros((avg_tc.shape[0],avg_tc.shape[0]))\n",
    "for k in range(avg_tc.shape[0]):\n",
    "    corr_mat[k] = nta.SeedCorrelationAnalyzer(avg_tc[k], avg_tc).corrcoef"
   ]
  }
 ],
 "metadata": {
  "kernelspec": {
   "display_name": "microstruct_atlasing",
   "language": "python",
   "name": "python3"
  },
  "language_info": {
   "codemirror_mode": {
    "name": "ipython",
    "version": 3
   },
   "file_extension": ".py",
   "mimetype": "text/x-python",
   "name": "python",
   "nbconvert_exporter": "python",
   "pygments_lexer": "ipython3",
   "version": "3.8.18"
  },
  "orig_nbformat": 4
 },
 "nbformat": 4,
 "nbformat_minor": 2
}
